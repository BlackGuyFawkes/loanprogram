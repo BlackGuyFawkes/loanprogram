{
 "cells": [
  {
   "cell_type": "markdown",
   "id": "5180759e",
   "metadata": {
    "papermill": {
     "duration": 0.011315,
     "end_time": "2022-09-26T15:11:34.792871",
     "exception": false,
     "start_time": "2022-09-26T15:11:34.781556",
     "status": "completed"
    },
    "tags": []
   },
   "source": [
    "# Loan Program\n",
    "\n",
    "## By Maduako Akachi\n",
    "\n",
    "This is a classification problem in which we need to classify whether the loan will be approved or not. classification refers to a predictive modeling problem where a class label is predicted for a given example of input data. A few examples of classification problems are Spam Email detection, Cancer detection, Sentiment Analysis, etc."
   ]
  },
  {
   "cell_type": "code",
   "execution_count": 1,
   "id": "94db78cb",
   "metadata": {
    "execution": {
     "iopub.execute_input": "2022-09-26T15:11:34.816174Z",
     "iopub.status.busy": "2022-09-26T15:11:34.815498Z",
     "iopub.status.idle": "2022-09-26T15:11:36.292029Z",
     "shell.execute_reply": "2022-09-26T15:11:36.290404Z"
    },
    "papermill": {
     "duration": 1.49247,
     "end_time": "2022-09-26T15:11:36.295657",
     "exception": false,
     "start_time": "2022-09-26T15:11:34.803187",
     "status": "completed"
    },
    "tags": []
   },
   "outputs": [],
   "source": [
    "#Import libraries\n",
    "import numpy as np\n",
    "import pandas as pd\n",
    "import matplotlib.pyplot as plt\n",
    "import seaborn as sns\n",
    "%matplotlib inline"
   ]
  },
  {
   "cell_type": "code",
   "execution_count": 2,
   "id": "a28370aa",
   "metadata": {
    "execution": {
     "iopub.execute_input": "2022-09-26T15:11:36.319150Z",
     "iopub.status.busy": "2022-09-26T15:11:36.318104Z",
     "iopub.status.idle": "2022-09-26T15:11:36.374035Z",
     "shell.execute_reply": "2022-09-26T15:11:36.372441Z"
    },
    "papermill": {
     "duration": 0.071793,
     "end_time": "2022-09-26T15:11:36.378031",
     "exception": false,
     "start_time": "2022-09-26T15:11:36.306238",
     "status": "completed"
    },
    "tags": []
   },
   "outputs": [
    {
     "data": {
      "text/html": [
       "<div>\n",
       "<style scoped>\n",
       "    .dataframe tbody tr th:only-of-type {\n",
       "        vertical-align: middle;\n",
       "    }\n",
       "\n",
       "    .dataframe tbody tr th {\n",
       "        vertical-align: top;\n",
       "    }\n",
       "\n",
       "    .dataframe thead th {\n",
       "        text-align: right;\n",
       "    }\n",
       "</style>\n",
       "<table border=\"1\" class=\"dataframe\">\n",
       "  <thead>\n",
       "    <tr style=\"text-align: right;\">\n",
       "      <th></th>\n",
       "      <th>Loan_ID</th>\n",
       "      <th>Gender</th>\n",
       "      <th>Married</th>\n",
       "      <th>Dependents</th>\n",
       "      <th>Education</th>\n",
       "      <th>Self_Employed</th>\n",
       "      <th>ApplicantIncome</th>\n",
       "      <th>CoapplicantIncome</th>\n",
       "      <th>LoanAmount</th>\n",
       "      <th>Loan_Amount_Term</th>\n",
       "      <th>Credit_History</th>\n",
       "      <th>Property_Area</th>\n",
       "      <th>Loan_Status</th>\n",
       "    </tr>\n",
       "  </thead>\n",
       "  <tbody>\n",
       "    <tr>\n",
       "      <th>0</th>\n",
       "      <td>LP001002</td>\n",
       "      <td>Male</td>\n",
       "      <td>No</td>\n",
       "      <td>0</td>\n",
       "      <td>Graduate</td>\n",
       "      <td>No</td>\n",
       "      <td>5849</td>\n",
       "      <td>0.0</td>\n",
       "      <td>NaN</td>\n",
       "      <td>360.0</td>\n",
       "      <td>1.0</td>\n",
       "      <td>Urban</td>\n",
       "      <td>Y</td>\n",
       "    </tr>\n",
       "    <tr>\n",
       "      <th>1</th>\n",
       "      <td>LP001003</td>\n",
       "      <td>Male</td>\n",
       "      <td>Yes</td>\n",
       "      <td>1</td>\n",
       "      <td>Graduate</td>\n",
       "      <td>No</td>\n",
       "      <td>4583</td>\n",
       "      <td>1508.0</td>\n",
       "      <td>128.0</td>\n",
       "      <td>360.0</td>\n",
       "      <td>1.0</td>\n",
       "      <td>Rural</td>\n",
       "      <td>N</td>\n",
       "    </tr>\n",
       "    <tr>\n",
       "      <th>2</th>\n",
       "      <td>LP001005</td>\n",
       "      <td>Male</td>\n",
       "      <td>Yes</td>\n",
       "      <td>0</td>\n",
       "      <td>Graduate</td>\n",
       "      <td>Yes</td>\n",
       "      <td>3000</td>\n",
       "      <td>0.0</td>\n",
       "      <td>66.0</td>\n",
       "      <td>360.0</td>\n",
       "      <td>1.0</td>\n",
       "      <td>Urban</td>\n",
       "      <td>Y</td>\n",
       "    </tr>\n",
       "    <tr>\n",
       "      <th>3</th>\n",
       "      <td>LP001006</td>\n",
       "      <td>Male</td>\n",
       "      <td>Yes</td>\n",
       "      <td>0</td>\n",
       "      <td>Not Graduate</td>\n",
       "      <td>No</td>\n",
       "      <td>2583</td>\n",
       "      <td>2358.0</td>\n",
       "      <td>120.0</td>\n",
       "      <td>360.0</td>\n",
       "      <td>1.0</td>\n",
       "      <td>Urban</td>\n",
       "      <td>Y</td>\n",
       "    </tr>\n",
       "    <tr>\n",
       "      <th>4</th>\n",
       "      <td>LP001008</td>\n",
       "      <td>Male</td>\n",
       "      <td>No</td>\n",
       "      <td>0</td>\n",
       "      <td>Graduate</td>\n",
       "      <td>No</td>\n",
       "      <td>6000</td>\n",
       "      <td>0.0</td>\n",
       "      <td>141.0</td>\n",
       "      <td>360.0</td>\n",
       "      <td>1.0</td>\n",
       "      <td>Urban</td>\n",
       "      <td>Y</td>\n",
       "    </tr>\n",
       "  </tbody>\n",
       "</table>\n",
       "</div>"
      ],
      "text/plain": [
       "    Loan_ID Gender Married Dependents     Education Self_Employed  \\\n",
       "0  LP001002   Male      No          0      Graduate            No   \n",
       "1  LP001003   Male     Yes          1      Graduate            No   \n",
       "2  LP001005   Male     Yes          0      Graduate           Yes   \n",
       "3  LP001006   Male     Yes          0  Not Graduate            No   \n",
       "4  LP001008   Male      No          0      Graduate            No   \n",
       "\n",
       "   ApplicantIncome  CoapplicantIncome  LoanAmount  Loan_Amount_Term  \\\n",
       "0             5849                0.0         NaN             360.0   \n",
       "1             4583             1508.0       128.0             360.0   \n",
       "2             3000                0.0        66.0             360.0   \n",
       "3             2583             2358.0       120.0             360.0   \n",
       "4             6000                0.0       141.0             360.0   \n",
       "\n",
       "   Credit_History Property_Area Loan_Status  \n",
       "0             1.0         Urban           Y  \n",
       "1             1.0         Rural           N  \n",
       "2             1.0         Urban           Y  \n",
       "3             1.0         Urban           Y  \n",
       "4             1.0         Urban           Y  "
      ]
     },
     "execution_count": 2,
     "metadata": {},
     "output_type": "execute_result"
    }
   ],
   "source": [
    "#Load and read the dataset into panda dataframe\n",
    "#Read first rows\n",
    "loan_df = pd.read_csv(\"../input/loan-data/train.csv\")\n",
    "loan_df.head()"
   ]
  },
  {
   "cell_type": "code",
   "execution_count": 3,
   "id": "4e974224",
   "metadata": {
    "execution": {
     "iopub.execute_input": "2022-09-26T15:11:36.404057Z",
     "iopub.status.busy": "2022-09-26T15:11:36.403533Z",
     "iopub.status.idle": "2022-09-26T15:11:36.410935Z",
     "shell.execute_reply": "2022-09-26T15:11:36.409720Z"
    },
    "papermill": {
     "duration": 0.022724,
     "end_time": "2022-09-26T15:11:36.413267",
     "exception": false,
     "start_time": "2022-09-26T15:11:36.390543",
     "status": "completed"
    },
    "tags": []
   },
   "outputs": [
    {
     "data": {
      "text/plain": [
       "(614, 13)"
      ]
     },
     "execution_count": 3,
     "metadata": {},
     "output_type": "execute_result"
    }
   ],
   "source": [
    "#Get size of the dataframe\n",
    "loan_df.shape"
   ]
  },
  {
   "cell_type": "code",
   "execution_count": 4,
   "id": "43a40ea9",
   "metadata": {
    "execution": {
     "iopub.execute_input": "2022-09-26T15:11:36.437505Z",
     "iopub.status.busy": "2022-09-26T15:11:36.436195Z",
     "iopub.status.idle": "2022-09-26T15:11:36.471446Z",
     "shell.execute_reply": "2022-09-26T15:11:36.470252Z"
    },
    "papermill": {
     "duration": 0.050341,
     "end_time": "2022-09-26T15:11:36.474537",
     "exception": false,
     "start_time": "2022-09-26T15:11:36.424196",
     "status": "completed"
    },
    "tags": []
   },
   "outputs": [
    {
     "name": "stdout",
     "output_type": "stream",
     "text": [
      "<class 'pandas.core.frame.DataFrame'>\n",
      "RangeIndex: 614 entries, 0 to 613\n",
      "Data columns (total 13 columns):\n",
      " #   Column             Non-Null Count  Dtype  \n",
      "---  ------             --------------  -----  \n",
      " 0   Loan_ID            614 non-null    object \n",
      " 1   Gender             601 non-null    object \n",
      " 2   Married            611 non-null    object \n",
      " 3   Dependents         599 non-null    object \n",
      " 4   Education          614 non-null    object \n",
      " 5   Self_Employed      582 non-null    object \n",
      " 6   ApplicantIncome    614 non-null    int64  \n",
      " 7   CoapplicantIncome  614 non-null    float64\n",
      " 8   LoanAmount         592 non-null    float64\n",
      " 9   Loan_Amount_Term   600 non-null    float64\n",
      " 10  Credit_History     564 non-null    float64\n",
      " 11  Property_Area      614 non-null    object \n",
      " 12  Loan_Status        614 non-null    object \n",
      "dtypes: float64(4), int64(1), object(8)\n",
      "memory usage: 62.5+ KB\n"
     ]
    }
   ],
   "source": [
    "#Get more information about the dataset\n",
    "loan_df.info()"
   ]
  },
  {
   "cell_type": "code",
   "execution_count": 5,
   "id": "f1634b69",
   "metadata": {
    "execution": {
     "iopub.execute_input": "2022-09-26T15:11:36.498215Z",
     "iopub.status.busy": "2022-09-26T15:11:36.496700Z",
     "iopub.status.idle": "2022-09-26T15:11:36.532423Z",
     "shell.execute_reply": "2022-09-26T15:11:36.530979Z"
    },
    "papermill": {
     "duration": 0.050584,
     "end_time": "2022-09-26T15:11:36.535475",
     "exception": false,
     "start_time": "2022-09-26T15:11:36.484891",
     "status": "completed"
    },
    "tags": []
   },
   "outputs": [
    {
     "data": {
      "text/html": [
       "<div>\n",
       "<style scoped>\n",
       "    .dataframe tbody tr th:only-of-type {\n",
       "        vertical-align: middle;\n",
       "    }\n",
       "\n",
       "    .dataframe tbody tr th {\n",
       "        vertical-align: top;\n",
       "    }\n",
       "\n",
       "    .dataframe thead th {\n",
       "        text-align: right;\n",
       "    }\n",
       "</style>\n",
       "<table border=\"1\" class=\"dataframe\">\n",
       "  <thead>\n",
       "    <tr style=\"text-align: right;\">\n",
       "      <th></th>\n",
       "      <th>ApplicantIncome</th>\n",
       "      <th>CoapplicantIncome</th>\n",
       "      <th>LoanAmount</th>\n",
       "      <th>Loan_Amount_Term</th>\n",
       "      <th>Credit_History</th>\n",
       "    </tr>\n",
       "  </thead>\n",
       "  <tbody>\n",
       "    <tr>\n",
       "      <th>count</th>\n",
       "      <td>614.000000</td>\n",
       "      <td>614.000000</td>\n",
       "      <td>592.000000</td>\n",
       "      <td>600.00000</td>\n",
       "      <td>564.000000</td>\n",
       "    </tr>\n",
       "    <tr>\n",
       "      <th>mean</th>\n",
       "      <td>5403.459283</td>\n",
       "      <td>1621.245798</td>\n",
       "      <td>146.412162</td>\n",
       "      <td>342.00000</td>\n",
       "      <td>0.842199</td>\n",
       "    </tr>\n",
       "    <tr>\n",
       "      <th>std</th>\n",
       "      <td>6109.041673</td>\n",
       "      <td>2926.248369</td>\n",
       "      <td>85.587325</td>\n",
       "      <td>65.12041</td>\n",
       "      <td>0.364878</td>\n",
       "    </tr>\n",
       "    <tr>\n",
       "      <th>min</th>\n",
       "      <td>150.000000</td>\n",
       "      <td>0.000000</td>\n",
       "      <td>9.000000</td>\n",
       "      <td>12.00000</td>\n",
       "      <td>0.000000</td>\n",
       "    </tr>\n",
       "    <tr>\n",
       "      <th>25%</th>\n",
       "      <td>2877.500000</td>\n",
       "      <td>0.000000</td>\n",
       "      <td>100.000000</td>\n",
       "      <td>360.00000</td>\n",
       "      <td>1.000000</td>\n",
       "    </tr>\n",
       "    <tr>\n",
       "      <th>50%</th>\n",
       "      <td>3812.500000</td>\n",
       "      <td>1188.500000</td>\n",
       "      <td>128.000000</td>\n",
       "      <td>360.00000</td>\n",
       "      <td>1.000000</td>\n",
       "    </tr>\n",
       "    <tr>\n",
       "      <th>75%</th>\n",
       "      <td>5795.000000</td>\n",
       "      <td>2297.250000</td>\n",
       "      <td>168.000000</td>\n",
       "      <td>360.00000</td>\n",
       "      <td>1.000000</td>\n",
       "    </tr>\n",
       "    <tr>\n",
       "      <th>max</th>\n",
       "      <td>81000.000000</td>\n",
       "      <td>41667.000000</td>\n",
       "      <td>700.000000</td>\n",
       "      <td>480.00000</td>\n",
       "      <td>1.000000</td>\n",
       "    </tr>\n",
       "  </tbody>\n",
       "</table>\n",
       "</div>"
      ],
      "text/plain": [
       "       ApplicantIncome  CoapplicantIncome  LoanAmount  Loan_Amount_Term  \\\n",
       "count       614.000000         614.000000  592.000000         600.00000   \n",
       "mean       5403.459283        1621.245798  146.412162         342.00000   \n",
       "std        6109.041673        2926.248369   85.587325          65.12041   \n",
       "min         150.000000           0.000000    9.000000          12.00000   \n",
       "25%        2877.500000           0.000000  100.000000         360.00000   \n",
       "50%        3812.500000        1188.500000  128.000000         360.00000   \n",
       "75%        5795.000000        2297.250000  168.000000         360.00000   \n",
       "max       81000.000000       41667.000000  700.000000         480.00000   \n",
       "\n",
       "       Credit_History  \n",
       "count      564.000000  \n",
       "mean         0.842199  \n",
       "std          0.364878  \n",
       "min          0.000000  \n",
       "25%          1.000000  \n",
       "50%          1.000000  \n",
       "75%          1.000000  \n",
       "max          1.000000  "
      ]
     },
     "execution_count": 5,
     "metadata": {},
     "output_type": "execute_result"
    }
   ],
   "source": [
    "#Get statistical information about the dataframe\n",
    "loan_df.describe()"
   ]
  },
  {
   "cell_type": "code",
   "execution_count": 6,
   "id": "2f04e663",
   "metadata": {
    "execution": {
     "iopub.execute_input": "2022-09-26T15:11:36.560448Z",
     "iopub.status.busy": "2022-09-26T15:11:36.559380Z",
     "iopub.status.idle": "2022-09-26T15:11:36.572049Z",
     "shell.execute_reply": "2022-09-26T15:11:36.570556Z"
    },
    "papermill": {
     "duration": 0.027691,
     "end_time": "2022-09-26T15:11:36.574842",
     "exception": false,
     "start_time": "2022-09-26T15:11:36.547151",
     "status": "completed"
    },
    "tags": []
   },
   "outputs": [
    {
     "data": {
      "text/plain": [
       "Loan_ID               0\n",
       "Gender               13\n",
       "Married               3\n",
       "Dependents           15\n",
       "Education             0\n",
       "Self_Employed        32\n",
       "ApplicantIncome       0\n",
       "CoapplicantIncome     0\n",
       "LoanAmount           22\n",
       "Loan_Amount_Term     14\n",
       "Credit_History       50\n",
       "Property_Area         0\n",
       "Loan_Status           0\n",
       "dtype: int64"
      ]
     },
     "execution_count": 6,
     "metadata": {},
     "output_type": "execute_result"
    }
   ],
   "source": [
    "#Check for missing values\n",
    "loan_df.isnull().sum()"
   ]
  },
  {
   "cell_type": "code",
   "execution_count": 7,
   "id": "e2bd82ea",
   "metadata": {
    "execution": {
     "iopub.execute_input": "2022-09-26T15:11:36.600489Z",
     "iopub.status.busy": "2022-09-26T15:11:36.599991Z",
     "iopub.status.idle": "2022-09-26T15:11:36.618893Z",
     "shell.execute_reply": "2022-09-26T15:11:36.617443Z"
    },
    "papermill": {
     "duration": 0.035166,
     "end_time": "2022-09-26T15:11:36.621563",
     "exception": false,
     "start_time": "2022-09-26T15:11:36.586397",
     "status": "completed"
    },
    "scrolled": true,
    "tags": []
   },
   "outputs": [
    {
     "name": "stdout",
     "output_type": "stream",
     "text": [
      "  Gender Married Dependents Self_Employed\n",
      "0   Male     Yes          0            No\n"
     ]
    }
   ],
   "source": [
    "#Fill up categorical null values with mode\n",
    "mode = loan_df.filter(['Gender', 'Married', 'Dependents', 'Self_Employed']).mode()\n",
    "print (mode)\n",
    "cols = ['Gender', 'Married', 'Dependents', 'Self_Employed']\n",
    "loan_df[cols]=loan_df[cols].fillna(mode.iloc[0])"
   ]
  },
  {
   "cell_type": "code",
   "execution_count": 8,
   "id": "6e6d42cc",
   "metadata": {
    "execution": {
     "iopub.execute_input": "2022-09-26T15:11:36.645606Z",
     "iopub.status.busy": "2022-09-26T15:11:36.645060Z",
     "iopub.status.idle": "2022-09-26T15:11:36.656293Z",
     "shell.execute_reply": "2022-09-26T15:11:36.654760Z"
    },
    "papermill": {
     "duration": 0.027002,
     "end_time": "2022-09-26T15:11:36.659417",
     "exception": false,
     "start_time": "2022-09-26T15:11:36.632415",
     "status": "completed"
    },
    "tags": []
   },
   "outputs": [],
   "source": [
    "#Fill up numerical null values with mean\n",
    "cols = ['LoanAmount','Loan_Amount_Term','Credit_History']\n",
    "loan_df[cols] = loan_df[cols].fillna(loan_df[cols].mean())"
   ]
  },
  {
   "cell_type": "code",
   "execution_count": 9,
   "id": "1a21664f",
   "metadata": {
    "execution": {
     "iopub.execute_input": "2022-09-26T15:11:36.684700Z",
     "iopub.status.busy": "2022-09-26T15:11:36.684171Z",
     "iopub.status.idle": "2022-09-26T15:11:36.692492Z",
     "shell.execute_reply": "2022-09-26T15:11:36.691070Z"
    },
    "papermill": {
     "duration": 0.024195,
     "end_time": "2022-09-26T15:11:36.695335",
     "exception": false,
     "start_time": "2022-09-26T15:11:36.671140",
     "status": "completed"
    },
    "tags": []
   },
   "outputs": [],
   "source": [
    "#Drop irrelevant columns\n",
    "loan_df.drop(['Loan_ID', 'Dependents'], axis=1, inplace=True)"
   ]
  },
  {
   "cell_type": "code",
   "execution_count": 10,
   "id": "ae7316e6",
   "metadata": {
    "execution": {
     "iopub.execute_input": "2022-09-26T15:11:36.720426Z",
     "iopub.status.busy": "2022-09-26T15:11:36.719853Z",
     "iopub.status.idle": "2022-09-26T15:11:36.731784Z",
     "shell.execute_reply": "2022-09-26T15:11:36.730541Z"
    },
    "papermill": {
     "duration": 0.027837,
     "end_time": "2022-09-26T15:11:36.734433",
     "exception": false,
     "start_time": "2022-09-26T15:11:36.706596",
     "status": "completed"
    },
    "tags": []
   },
   "outputs": [
    {
     "data": {
      "text/plain": [
       "Gender               0\n",
       "Married              0\n",
       "Education            0\n",
       "Self_Employed        0\n",
       "ApplicantIncome      0\n",
       "CoapplicantIncome    0\n",
       "LoanAmount           0\n",
       "Loan_Amount_Term     0\n",
       "Credit_History       0\n",
       "Property_Area        0\n",
       "Loan_Status          0\n",
       "dtype: int64"
      ]
     },
     "execution_count": 10,
     "metadata": {},
     "output_type": "execute_result"
    }
   ],
   "source": [
    "#Check for missing values\n",
    "loan_df.isnull().sum()"
   ]
  },
  {
   "cell_type": "code",
   "execution_count": 11,
   "id": "26bdd04c",
   "metadata": {
    "execution": {
     "iopub.execute_input": "2022-09-26T15:11:36.758925Z",
     "iopub.status.busy": "2022-09-26T15:11:36.758392Z",
     "iopub.status.idle": "2022-09-26T15:11:36.767135Z",
     "shell.execute_reply": "2022-09-26T15:11:36.765584Z"
    },
    "papermill": {
     "duration": 0.024323,
     "end_time": "2022-09-26T15:11:36.769953",
     "exception": false,
     "start_time": "2022-09-26T15:11:36.745630",
     "status": "completed"
    },
    "tags": []
   },
   "outputs": [],
   "source": [
    "#Visualization \n",
    "def bar_chart(col): \n",
    "    Approved = loan_df[loan_df[\"Loan_Status\"]==\"Y\"][col].value_counts() \n",
    "    Disapproved = loan_df[loan_df[\"Loan_Status\"]==\"N\"][col].value_counts() \n",
    "    \n",
    "    df1 = pd.DataFrame([Approved, Disapproved]) \n",
    "    df1.index = [\"Approved\", \"Disapproved\"] \n",
    "    df1.plot(kind=\"bar\")"
   ]
  },
  {
   "cell_type": "code",
   "execution_count": 12,
   "id": "b2760f65",
   "metadata": {
    "execution": {
     "iopub.execute_input": "2022-09-26T15:11:36.795369Z",
     "iopub.status.busy": "2022-09-26T15:11:36.794482Z",
     "iopub.status.idle": "2022-09-26T15:11:37.102406Z",
     "shell.execute_reply": "2022-09-26T15:11:37.100952Z"
    },
    "papermill": {
     "duration": 0.323821,
     "end_time": "2022-09-26T15:11:37.105429",
     "exception": false,
     "start_time": "2022-09-26T15:11:36.781608",
     "status": "completed"
    },
    "tags": []
   },
   "outputs": [
    {
     "data": {
      "image/png": "[encoded data removed]",
      "text/plain": [
       "<Figure size 432x288 with 1 Axes>"
      ]
     },
     "metadata": {
      "needs_background": "light"
     },
     "output_type": "display_data"
    }
   ],
   "source": [
    "bar_chart(\"Gender\")"
   ]
  },
  {
   "cell_type": "code",
   "execution_count": 13,
   "id": "5d612e94",
   "metadata": {
    "execution": {
     "iopub.execute_input": "2022-09-26T15:11:37.130052Z",
     "iopub.status.busy": "2022-09-26T15:11:37.129080Z",
     "iopub.status.idle": "2022-09-26T15:11:37.373408Z",
     "shell.execute_reply": "2022-09-26T15:11:37.371969Z"
    },
    "papermill": {
     "duration": 0.259902,
     "end_time": "2022-09-26T15:11:37.376413",
     "exception": false,
     "start_time": "2022-09-26T15:11:37.116511",
     "status": "completed"
    },
    "tags": []
   },
   "outputs": [
    {
     "data": {
      "image/png": "[encoded data removed]",
      "text/plain": [
       "<Figure size 432x288 with 1 Axes>"
      ]
     },
     "metadata": {
      "needs_background": "light"
     },
     "output_type": "display_data"
    }
   ],
   "source": [
    "bar_chart(\"Married\")"
   ]
  },
  {
   "cell_type": "code",
   "execution_count": 14,
   "id": "d84ea940",
   "metadata": {
    "execution": {
     "iopub.execute_input": "2022-09-26T15:11:37.401771Z",
     "iopub.status.busy": "2022-09-26T15:11:37.401219Z",
     "iopub.status.idle": "2022-09-26T15:11:37.650525Z",
     "shell.execute_reply": "2022-09-26T15:11:37.649149Z"
    },
    "papermill": {
     "duration": 0.265231,
     "end_time": "2022-09-26T15:11:37.653311",
     "exception": false,
     "start_time": "2022-09-26T15:11:37.388080",
     "status": "completed"
    },
    "tags": []
   },
   "outputs": [
    {
     "data": {
      "image/png": "[encoded data removed]",
      "text/plain": [
       "<Figure size 432x288 with 1 Axes>"
      ]
     },
     "metadata": {
      "needs_background": "light"
     },
     "output_type": "display_data"
    }
   ],
   "source": [
    "bar_chart(\"Education\")"
   ]
  },
  {
   "cell_type": "code",
   "execution_count": 15,
   "id": "c03b02ae",
   "metadata": {
    "execution": {
     "iopub.execute_input": "2022-09-26T15:11:37.679400Z",
     "iopub.status.busy": "2022-09-26T15:11:37.678847Z",
     "iopub.status.idle": "2022-09-26T15:11:37.931135Z",
     "shell.execute_reply": "2022-09-26T15:11:37.929765Z"
    },
    "papermill": {
     "duration": 0.269287,
     "end_time": "2022-09-26T15:11:37.934563",
     "exception": false,
     "start_time": "2022-09-26T15:11:37.665276",
     "status": "completed"
    },
    "tags": []
   },
   "outputs": [
    {
     "data": {
      "image/png": "[encoded data removed]",
      "text/plain": [
       "<Figure size 432x288 with 1 Axes>"
      ]
     },
     "metadata": {
      "needs_background": "light"
     },
     "output_type": "display_data"
    }
   ],
   "source": [
    "bar_chart(\"Self_Employed\")"
   ]
  },
  {
   "cell_type": "code",
   "execution_count": 16,
   "id": "361f798a",
   "metadata": {
    "execution": {
     "iopub.execute_input": "2022-09-26T15:11:37.962705Z",
     "iopub.status.busy": "2022-09-26T15:11:37.962168Z",
     "iopub.status.idle": "2022-09-26T15:11:37.977596Z",
     "shell.execute_reply": "2022-09-26T15:11:37.976070Z"
    },
    "papermill": {
     "duration": 0.033863,
     "end_time": "2022-09-26T15:11:37.981733",
     "exception": false,
     "start_time": "2022-09-26T15:11:37.947870",
     "status": "completed"
    },
    "tags": []
   },
   "outputs": [
    {
     "name": "stdout",
     "output_type": "stream",
     "text": [
      "<class 'pandas.core.frame.DataFrame'>\n",
      "RangeIndex: 614 entries, 0 to 613\n",
      "Data columns (total 11 columns):\n",
      " #   Column             Non-Null Count  Dtype  \n",
      "---  ------             --------------  -----  \n",
      " 0   Gender             614 non-null    object \n",
      " 1   Married            614 non-null    object \n",
      " 2   Education          614 non-null    object \n",
      " 3   Self_Employed      614 non-null    object \n",
      " 4   ApplicantIncome    614 non-null    int64  \n",
      " 5   CoapplicantIncome  614 non-null    float64\n",
      " 6   LoanAmount         614 non-null    float64\n",
      " 7   Loan_Amount_Term   614 non-null    float64\n",
      " 8   Credit_History     614 non-null    float64\n",
      " 9   Property_Area      614 non-null    object \n",
      " 10  Loan_Status        614 non-null    object \n",
      "dtypes: float64(4), int64(1), object(6)\n",
      "memory usage: 52.9+ KB\n"
     ]
    }
   ],
   "source": [
    "#Get more information about the dataset\n",
    "loan_df.info()"
   ]
  },
  {
   "cell_type": "code",
   "execution_count": 17,
   "id": "336d7dc4",
   "metadata": {
    "execution": {
     "iopub.execute_input": "2022-09-26T15:11:38.009819Z",
     "iopub.status.busy": "2022-09-26T15:11:38.008471Z",
     "iopub.status.idle": "2022-09-26T15:11:38.203830Z",
     "shell.execute_reply": "2022-09-26T15:11:38.202554Z"
    },
    "papermill": {
     "duration": 0.212533,
     "end_time": "2022-09-26T15:11:38.206906",
     "exception": false,
     "start_time": "2022-09-26T15:11:37.994373",
     "status": "completed"
    },
    "tags": []
   },
   "outputs": [
    {
     "name": "stdout",
     "output_type": "stream",
     "text": [
      "{'Gender': {'Female': 0, 'Male': 1}, 'Married': {'No': 0, 'Yes': 1}, 'Education': {'Graduate': 0, 'Not Graduate': 1}, 'Self_Employed': {'No': 0, 'Yes': 1}, 'Property_Area': {'Rural': 0, 'Semiurban': 1, 'Urban': 2}, 'Loan_Status': {'N': 0, 'Y': 1}}\n"
     ]
    }
   ],
   "source": [
    "#Label Encoding\n",
    "from sklearn import preprocessing\n",
    "\n",
    "category_col = [ 'Gender', 'Married', 'Education', 'Self_Employed', 'Property_Area', 'Loan_Status' ]\n",
    "labelEncoder = preprocessing.LabelEncoder()\n",
    " \n",
    "mapping_dict = {}\n",
    "for col in category_col:\n",
    "    loan_df[col] = labelEncoder.fit_transform(loan_df[col])\n",
    " \n",
    "    le_name_mapping = dict(zip(labelEncoder.classes_,\n",
    "                               labelEncoder.transform(labelEncoder.classes_)))\n",
    " \n",
    "    mapping_dict[col] = le_name_mapping\n",
    "print(mapping_dict)"
   ]
  },
  {
   "cell_type": "code",
   "execution_count": 18,
   "id": "498af307",
   "metadata": {
    "execution": {
     "iopub.execute_input": "2022-09-26T15:11:38.234960Z",
     "iopub.status.busy": "2022-09-26T15:11:38.233561Z",
     "iopub.status.idle": "2022-09-26T15:11:38.250736Z",
     "shell.execute_reply": "2022-09-26T15:11:38.249643Z"
    },
    "papermill": {
     "duration": 0.033855,
     "end_time": "2022-09-26T15:11:38.253657",
     "exception": false,
     "start_time": "2022-09-26T15:11:38.219802",
     "status": "completed"
    },
    "tags": []
   },
   "outputs": [
    {
     "name": "stdout",
     "output_type": "stream",
     "text": [
      "<class 'pandas.core.frame.DataFrame'>\n",
      "RangeIndex: 614 entries, 0 to 613\n",
      "Data columns (total 11 columns):\n",
      " #   Column             Non-Null Count  Dtype  \n",
      "---  ------             --------------  -----  \n",
      " 0   Gender             614 non-null    int64  \n",
      " 1   Married            614 non-null    int64  \n",
      " 2   Education          614 non-null    int64  \n",
      " 3   Self_Employed      614 non-null    int64  \n",
      " 4   ApplicantIncome    614 non-null    int64  \n",
      " 5   CoapplicantIncome  614 non-null    float64\n",
      " 6   LoanAmount         614 non-null    float64\n",
      " 7   Loan_Amount_Term   614 non-null    float64\n",
      " 8   Credit_History     614 non-null    float64\n",
      " 9   Property_Area      614 non-null    int64  \n",
      " 10  Loan_Status        614 non-null    int64  \n",
      "dtypes: float64(4), int64(7)\n",
      "memory usage: 52.9 KB\n"
     ]
    }
   ],
   "source": [
    "#Get more information about the dataset\n",
    "loan_df.info()"
   ]
  },
  {
   "cell_type": "code",
   "execution_count": 19,
   "id": "17c96de1",
   "metadata": {
    "execution": {
     "iopub.execute_input": "2022-09-26T15:11:38.285223Z",
     "iopub.status.busy": "2022-09-26T15:11:38.283930Z",
     "iopub.status.idle": "2022-09-26T15:11:38.371324Z",
     "shell.execute_reply": "2022-09-26T15:11:38.370011Z"
    },
    "papermill": {
     "duration": 0.106642,
     "end_time": "2022-09-26T15:11:38.374114",
     "exception": false,
     "start_time": "2022-09-26T15:11:38.267472",
     "status": "completed"
    },
    "tags": []
   },
   "outputs": [
    {
     "name": "stdout",
     "output_type": "stream",
     "text": [
      "(429, 10)\n",
      "(429,)\n",
      "(185, 10)\n",
      "(185,)\n"
     ]
    }
   ],
   "source": [
    "#Define dependent and independent variables and then split the data into train and test\n",
    "from sklearn.model_selection import train_test_split  \n",
    "X = loan_df.drop(\"Loan_Status\", axis=1) \n",
    "y = loan_df[\"Loan_Status\"] \n",
    "\n",
    "X_train, X_test, y_train, y_test = train_test_split(X,y,test_size=0.3, random_state=1) \n",
    "print(X_train.shape) \n",
    "print(y_train.shape)\n",
    "print(X_test.shape) \n",
    "print(y_test.shape)"
   ]
  },
  {
   "cell_type": "code",
   "execution_count": 20,
   "id": "afb0c6b6",
   "metadata": {
    "execution": {
     "iopub.execute_input": "2022-09-26T15:11:38.404182Z",
     "iopub.status.busy": "2022-09-26T15:11:38.403638Z",
     "iopub.status.idle": "2022-09-26T15:11:38.679001Z",
     "shell.execute_reply": "2022-09-26T15:11:38.677478Z"
    },
    "papermill": {
     "duration": 0.294958,
     "end_time": "2022-09-26T15:11:38.682216",
     "exception": false,
     "start_time": "2022-09-26T15:11:38.387258",
     "status": "completed"
    },
    "tags": []
   },
   "outputs": [],
   "source": [
    "#Build model\n",
    "from sklearn.ensemble import RandomForestClassifier\n",
    "rfc = RandomForestClassifier()\n",
    "parameters = {\n",
    "    \"n_estimators\":[5,10,50,100,250],\n",
    "    \"max_depth\":[2,4,8,16,32,None]\n",
    "    \n",
    "}"
   ]
  },
  {
   "cell_type": "code",
   "execution_count": 21,
   "id": "e8e382d1",
   "metadata": {
    "execution": {
     "iopub.execute_input": "2022-09-26T15:11:38.710899Z",
     "iopub.status.busy": "2022-09-26T15:11:38.709602Z",
     "iopub.status.idle": "2022-09-26T15:12:01.830098Z",
     "shell.execute_reply": "2022-09-26T15:12:01.828991Z"
    },
    "papermill": {
     "duration": 23.138067,
     "end_time": "2022-09-26T15:12:01.833267",
     "exception": false,
     "start_time": "2022-09-26T15:11:38.695200",
     "status": "completed"
    },
    "tags": []
   },
   "outputs": [
    {
     "data": {
      "text/plain": [
       "GridSearchCV(cv=5, estimator=RandomForestClassifier(),\n",
       "             param_grid={'max_depth': [2, 4, 8, 16, 32, None],\n",
       "                         'n_estimators': [5, 10, 50, 100, 250]})"
      ]
     },
     "execution_count": 21,
     "metadata": {},
     "output_type": "execute_result"
    }
   ],
   "source": [
    "#Get best parameters to use in building model\n",
    "from sklearn.model_selection import GridSearchCV\n",
    "cv = GridSearchCV(rfc,parameters,cv=5)\n",
    "cv.fit(X_train,y_train.values.ravel())"
   ]
  },
  {
   "cell_type": "code",
   "execution_count": 22,
   "id": "3ea8021a",
   "metadata": {
    "execution": {
     "iopub.execute_input": "2022-09-26T15:12:01.860034Z",
     "iopub.status.busy": "2022-09-26T15:12:01.859513Z",
     "iopub.status.idle": "2022-09-26T15:12:01.867518Z",
     "shell.execute_reply": "2022-09-26T15:12:01.865930Z"
    },
    "papermill": {
     "duration": 0.024656,
     "end_time": "2022-09-26T15:12:01.870427",
     "exception": false,
     "start_time": "2022-09-26T15:12:01.845771",
     "status": "completed"
    },
    "tags": []
   },
   "outputs": [],
   "source": [
    "def display(results):\n",
    "    print(f'Best parameters are: {results.best_params_}')\n",
    "    print(\"\\n\")\n",
    "    mean_score = results.cv_results_['mean_test_score']\n",
    "    std_score = results.cv_results_['std_test_score']\n",
    "    params = results.cv_results_['params']\n",
    "    for mean,std,params in zip(mean_score,std_score,params):\n",
    "        print(f'{round(mean,3)} + or -{round(std,3)} for the {params}')"
   ]
  },
  {
   "cell_type": "code",
   "execution_count": 23,
   "id": "c6a7e8e4",
   "metadata": {
    "execution": {
     "iopub.execute_input": "2022-09-26T15:12:01.896942Z",
     "iopub.status.busy": "2022-09-26T15:12:01.896427Z",
     "iopub.status.idle": "2022-09-26T15:12:01.903721Z",
     "shell.execute_reply": "2022-09-26T15:12:01.902383Z"
    },
    "papermill": {
     "duration": 0.024362,
     "end_time": "2022-09-26T15:12:01.907195",
     "exception": false,
     "start_time": "2022-09-26T15:12:01.882833",
     "status": "completed"
    },
    "tags": []
   },
   "outputs": [
    {
     "name": "stdout",
     "output_type": "stream",
     "text": [
      "Best parameters are: {'max_depth': 8, 'n_estimators': 50}\n",
      "\n",
      "\n",
      "0.82 + or -0.012 for the {'max_depth': 2, 'n_estimators': 5}\n",
      "0.785 + or -0.054 for the {'max_depth': 2, 'n_estimators': 10}\n",
      "0.818 + or -0.015 for the {'max_depth': 2, 'n_estimators': 50}\n",
      "0.818 + or -0.015 for the {'max_depth': 2, 'n_estimators': 100}\n",
      "0.818 + or -0.015 for the {'max_depth': 2, 'n_estimators': 250}\n",
      "0.813 + or -0.017 for the {'max_depth': 4, 'n_estimators': 5}\n",
      "0.804 + or -0.012 for the {'max_depth': 4, 'n_estimators': 10}\n",
      "0.818 + or -0.018 for the {'max_depth': 4, 'n_estimators': 50}\n",
      "0.818 + or -0.018 for the {'max_depth': 4, 'n_estimators': 100}\n",
      "0.816 + or -0.019 for the {'max_depth': 4, 'n_estimators': 250}\n",
      "0.788 + or -0.036 for the {'max_depth': 8, 'n_estimators': 5}\n",
      "0.809 + or -0.016 for the {'max_depth': 8, 'n_estimators': 10}\n",
      "0.823 + or -0.016 for the {'max_depth': 8, 'n_estimators': 50}\n",
      "0.813 + or -0.017 for the {'max_depth': 8, 'n_estimators': 100}\n",
      "0.816 + or -0.019 for the {'max_depth': 8, 'n_estimators': 250}\n",
      "0.776 + or -0.026 for the {'max_depth': 16, 'n_estimators': 5}\n",
      "0.781 + or -0.032 for the {'max_depth': 16, 'n_estimators': 10}\n",
      "0.802 + or -0.021 for the {'max_depth': 16, 'n_estimators': 50}\n",
      "0.804 + or -0.031 for the {'max_depth': 16, 'n_estimators': 100}\n",
      "0.818 + or -0.01 for the {'max_depth': 16, 'n_estimators': 250}\n",
      "0.753 + or -0.035 for the {'max_depth': 32, 'n_estimators': 5}\n",
      "0.769 + or -0.012 for the {'max_depth': 32, 'n_estimators': 10}\n",
      "0.809 + or -0.005 for the {'max_depth': 32, 'n_estimators': 50}\n",
      "0.809 + or -0.021 for the {'max_depth': 32, 'n_estimators': 100}\n",
      "0.804 + or -0.027 for the {'max_depth': 32, 'n_estimators': 250}\n",
      "0.778 + or -0.039 for the {'max_depth': None, 'n_estimators': 5}\n",
      "0.786 + or -0.014 for the {'max_depth': None, 'n_estimators': 10}\n",
      "0.802 + or -0.013 for the {'max_depth': None, 'n_estimators': 50}\n",
      "0.802 + or -0.021 for the {'max_depth': None, 'n_estimators': 100}\n",
      "0.804 + or -0.022 for the {'max_depth': None, 'n_estimators': 250}\n"
     ]
    }
   ],
   "source": [
    "display(cv)"
   ]
  },
  {
   "cell_type": "code",
   "execution_count": 24,
   "id": "63f1b688",
   "metadata": {
    "execution": {
     "iopub.execute_input": "2022-09-26T15:12:01.935770Z",
     "iopub.status.busy": "2022-09-26T15:12:01.935246Z",
     "iopub.status.idle": "2022-09-26T15:12:01.941531Z",
     "shell.execute_reply": "2022-09-26T15:12:01.940146Z"
    },
    "papermill": {
     "duration": 0.022957,
     "end_time": "2022-09-26T15:12:01.944151",
     "exception": false,
     "start_time": "2022-09-26T15:12:01.921194",
     "status": "completed"
    },
    "tags": []
   },
   "outputs": [],
   "source": [
    "#create the model\n",
    "from sklearn.ensemble import RandomForestClassifier\n",
    "\n",
    "rf1=RandomForestClassifier(n_estimators= 50, max_depth=4)"
   ]
  },
  {
   "cell_type": "code",
   "execution_count": 25,
   "id": "81146127",
   "metadata": {
    "execution": {
     "iopub.execute_input": "2022-09-26T15:12:01.971384Z",
     "iopub.status.busy": "2022-09-26T15:12:01.970874Z",
     "iopub.status.idle": "2022-09-26T15:12:02.062209Z",
     "shell.execute_reply": "2022-09-26T15:12:02.060774Z"
    },
    "papermill": {
     "duration": 0.108383,
     "end_time": "2022-09-26T15:12:02.065374",
     "exception": false,
     "start_time": "2022-09-26T15:12:01.956991",
     "status": "completed"
    },
    "tags": []
   },
   "outputs": [
    {
     "data": {
      "text/plain": [
       "RandomForestClassifier(max_depth=4, n_estimators=50)"
      ]
     },
     "execution_count": 25,
     "metadata": {},
     "output_type": "execute_result"
    }
   ],
   "source": [
    "rf1.fit(X_train,y_train)"
   ]
  },
  {
   "cell_type": "code",
   "execution_count": 26,
   "id": "372f829e",
   "metadata": {
    "execution": {
     "iopub.execute_input": "2022-09-26T15:12:02.092464Z",
     "iopub.status.busy": "2022-09-26T15:12:02.091965Z",
     "iopub.status.idle": "2022-09-26T15:12:02.111249Z",
     "shell.execute_reply": "2022-09-26T15:12:02.109489Z"
    },
    "papermill": {
     "duration": 0.036527,
     "end_time": "2022-09-26T15:12:02.114613",
     "exception": false,
     "start_time": "2022-09-26T15:12:02.078086",
     "status": "completed"
    },
    "tags": []
   },
   "outputs": [],
   "source": [
    "prediction_rf=rf1.predict(X_test)"
   ]
  },
  {
   "cell_type": "code",
   "execution_count": 27,
   "id": "d5bc755c",
   "metadata": {
    "execution": {
     "iopub.execute_input": "2022-09-26T15:12:02.143092Z",
     "iopub.status.busy": "2022-09-26T15:12:02.142581Z",
     "iopub.status.idle": "2022-09-26T15:12:02.162175Z",
     "shell.execute_reply": "2022-09-26T15:12:02.160886Z"
    },
    "papermill": {
     "duration": 0.037979,
     "end_time": "2022-09-26T15:12:02.165398",
     "exception": false,
     "start_time": "2022-09-26T15:12:02.127419",
     "status": "completed"
    },
    "tags": []
   },
   "outputs": [],
   "source": [
    "rf_score=rf1.score(X_test,y_test)*100"
   ]
  },
  {
   "cell_type": "code",
   "execution_count": 28,
   "id": "316cb3ff",
   "metadata": {
    "execution": {
     "iopub.execute_input": "2022-09-26T15:12:02.192459Z",
     "iopub.status.busy": "2022-09-26T15:12:02.191982Z",
     "iopub.status.idle": "2022-09-26T15:12:02.200074Z",
     "shell.execute_reply": "2022-09-26T15:12:02.198669Z"
    },
    "papermill": {
     "duration": 0.024975,
     "end_time": "2022-09-26T15:12:02.202850",
     "exception": false,
     "start_time": "2022-09-26T15:12:02.177875",
     "status": "completed"
    },
    "tags": []
   },
   "outputs": [
    {
     "data": {
      "text/plain": [
       "78.37837837837837"
      ]
     },
     "execution_count": 28,
     "metadata": {},
     "output_type": "execute_result"
    }
   ],
   "source": [
    "rf_score"
   ]
  },
  {
   "cell_type": "code",
   "execution_count": 29,
   "id": "9b3a2691",
   "metadata": {
    "execution": {
     "iopub.execute_input": "2022-09-26T15:12:02.230464Z",
     "iopub.status.busy": "2022-09-26T15:12:02.229987Z",
     "iopub.status.idle": "2022-09-26T15:12:02.236210Z",
     "shell.execute_reply": "2022-09-26T15:12:02.234561Z"
    },
    "papermill": {
     "duration": 0.023378,
     "end_time": "2022-09-26T15:12:02.238956",
     "exception": false,
     "start_time": "2022-09-26T15:12:02.215578",
     "status": "completed"
    },
    "tags": []
   },
   "outputs": [],
   "source": [
    "# Importing class and libraries for SVM\n",
    "\n",
    "from sklearn.svm import SVC\n",
    "model = SVC()"
   ]
  },
  {
   "cell_type": "code",
   "execution_count": 30,
   "id": "392b9487",
   "metadata": {
    "execution": {
     "iopub.execute_input": "2022-09-26T15:12:02.266607Z",
     "iopub.status.busy": "2022-09-26T15:12:02.266057Z",
     "iopub.status.idle": "2022-09-26T15:12:02.292660Z",
     "shell.execute_reply": "2022-09-26T15:12:02.291300Z"
    },
    "papermill": {
     "duration": 0.043556,
     "end_time": "2022-09-26T15:12:02.295387",
     "exception": false,
     "start_time": "2022-09-26T15:12:02.251831",
     "status": "completed"
    },
    "tags": []
   },
   "outputs": [
    {
     "data": {
      "text/plain": [
       "SVC()"
      ]
     },
     "execution_count": 30,
     "metadata": {},
     "output_type": "execute_result"
    }
   ],
   "source": [
    "# Training the Model\n",
    "\n",
    "model.fit(X_train,y_train)"
   ]
  },
  {
   "cell_type": "code",
   "execution_count": 31,
   "id": "3607d261",
   "metadata": {
    "execution": {
     "iopub.execute_input": "2022-09-26T15:12:02.322343Z",
     "iopub.status.busy": "2022-09-26T15:12:02.321841Z",
     "iopub.status.idle": "2022-09-26T15:12:02.342389Z",
     "shell.execute_reply": "2022-09-26T15:12:02.341079Z"
    },
    "papermill": {
     "duration": 0.037445,
     "end_time": "2022-09-26T15:12:02.345382",
     "exception": false,
     "start_time": "2022-09-26T15:12:02.307937",
     "status": "completed"
    },
    "tags": []
   },
   "outputs": [
    {
     "data": {
      "text/plain": [
       "0.7016317016317016"
      ]
     },
     "execution_count": 31,
     "metadata": {},
     "output_type": "execute_result"
    }
   ],
   "source": [
    "# Accuracy of the model in training\n",
    "\n",
    "model.score(X_train,y_train)"
   ]
  },
  {
   "cell_type": "code",
   "execution_count": 32,
   "id": "72fa6a76",
   "metadata": {
    "execution": {
     "iopub.execute_input": "2022-09-26T15:12:02.374354Z",
     "iopub.status.busy": "2022-09-26T15:12:02.372724Z",
     "iopub.status.idle": "2022-09-26T15:12:02.394129Z",
     "shell.execute_reply": "2022-09-26T15:12:02.392761Z"
    },
    "papermill": {
     "duration": 0.039059,
     "end_time": "2022-09-26T15:12:02.397086",
     "exception": false,
     "start_time": "2022-09-26T15:12:02.358027",
     "status": "completed"
    },
    "tags": []
   },
   "outputs": [
    {
     "data": {
      "text/plain": [
       "0.7016317016317016"
      ]
     },
     "execution_count": 32,
     "metadata": {},
     "output_type": "execute_result"
    }
   ],
   "source": [
    "# Accuracy of the model in Testing\n",
    "\n",
    "model.score(X_train,y_train)"
   ]
  },
  {
   "cell_type": "code",
   "execution_count": 33,
   "id": "fbd22b61",
   "metadata": {
    "execution": {
     "iopub.execute_input": "2022-09-26T15:12:02.425884Z",
     "iopub.status.busy": "2022-09-26T15:12:02.424478Z",
     "iopub.status.idle": "2022-09-26T15:12:02.430891Z",
     "shell.execute_reply": "2022-09-26T15:12:02.429447Z"
    },
    "papermill": {
     "duration": 0.024155,
     "end_time": "2022-09-26T15:12:02.434021",
     "exception": false,
     "start_time": "2022-09-26T15:12:02.409866",
     "status": "completed"
    },
    "tags": []
   },
   "outputs": [],
   "source": [
    "# Importing Libraries and Classes\n",
    "\n",
    "from sklearn import metrics"
   ]
  },
  {
   "cell_type": "code",
   "execution_count": 34,
   "id": "4b2f1972",
   "metadata": {
    "execution": {
     "iopub.execute_input": "2022-09-26T15:12:02.462892Z",
     "iopub.status.busy": "2022-09-26T15:12:02.461666Z",
     "iopub.status.idle": "2022-09-26T15:12:02.475501Z",
     "shell.execute_reply": "2022-09-26T15:12:02.473618Z"
    },
    "papermill": {
     "duration": 0.031828,
     "end_time": "2022-09-26T15:12:02.479157",
     "exception": false,
     "start_time": "2022-09-26T15:12:02.447329",
     "status": "completed"
    },
    "tags": []
   },
   "outputs": [],
   "source": [
    "# Y contains all the outputs and X contains all the inputs. We will test on the machine if it gives to expected Output for the \n",
    "# corresponding Inputs.\n",
    "\n",
    "expected = y_test\n",
    "predicted = model.predict(X_test)"
   ]
  },
  {
   "cell_type": "code",
   "execution_count": 35,
   "id": "bfb28250",
   "metadata": {
    "execution": {
     "iopub.execute_input": "2022-09-26T15:12:02.506946Z",
     "iopub.status.busy": "2022-09-26T15:12:02.506432Z",
     "iopub.status.idle": "2022-09-26T15:12:02.519617Z",
     "shell.execute_reply": "2022-09-26T15:12:02.517273Z"
    },
    "papermill": {
     "duration": 0.031274,
     "end_time": "2022-09-26T15:12:02.523206",
     "exception": false,
     "start_time": "2022-09-26T15:12:02.491932",
     "status": "completed"
    },
    "tags": []
   },
   "outputs": [
    {
     "name": "stdout",
     "output_type": "stream",
     "text": [
      "              precision    recall  f1-score   support\n",
      "\n",
      "           0       0.50      0.02      0.03        61\n",
      "           1       0.67      0.99      0.80       124\n",
      "\n",
      "    accuracy                           0.67       185\n",
      "   macro avg       0.59      0.50      0.42       185\n",
      "weighted avg       0.62      0.67      0.55       185\n",
      "\n"
     ]
    }
   ],
   "source": [
    "# Obtaining Classification Report\n",
    "\n",
    "print(metrics.classification_report(expected, predicted))"
   ]
  },
  {
   "cell_type": "code",
   "execution_count": 36,
   "id": "3ca8dfbc",
   "metadata": {
    "execution": {
     "iopub.execute_input": "2022-09-26T15:12:02.552386Z",
     "iopub.status.busy": "2022-09-26T15:12:02.551802Z",
     "iopub.status.idle": "2022-09-26T15:12:02.562212Z",
     "shell.execute_reply": "2022-09-26T15:12:02.560143Z"
    },
    "papermill": {
     "duration": 0.028988,
     "end_time": "2022-09-26T15:12:02.565270",
     "exception": false,
     "start_time": "2022-09-26T15:12:02.536282",
     "status": "completed"
    },
    "tags": []
   },
   "outputs": [
    {
     "name": "stdout",
     "output_type": "stream",
     "text": [
      "[[  1  60]\n",
      " [  1 123]]\n"
     ]
    }
   ],
   "source": [
    "# Output in the form of count\n",
    "\n",
    "print(metrics.confusion_matrix(expected, predicted))"
   ]
  },
  {
   "cell_type": "code",
   "execution_count": 37,
   "id": "f0f3004e",
   "metadata": {
    "execution": {
     "iopub.execute_input": "2022-09-26T15:12:02.592920Z",
     "iopub.status.busy": "2022-09-26T15:12:02.592312Z",
     "iopub.status.idle": "2022-09-26T15:12:02.656799Z",
     "shell.execute_reply": "2022-09-26T15:12:02.655331Z"
    },
    "papermill": {
     "duration": 0.081832,
     "end_time": "2022-09-26T15:12:02.659836",
     "exception": false,
     "start_time": "2022-09-26T15:12:02.578004",
     "status": "completed"
    },
    "tags": []
   },
   "outputs": [
    {
     "data": {
      "text/plain": [
       "array([1, 1, 1, 1, 1, 0, 1, 1, 1, 0, 1, 1, 1, 1, 1, 1, 1, 1, 1, 1, 1, 1,\n",
       "       1, 1, 1, 1, 1, 0, 1, 1, 1, 1, 1, 0, 1, 1, 1, 1, 1, 1, 1, 1, 1, 1,\n",
       "       1, 1, 1, 0, 1, 1, 1, 0, 1, 1, 1, 0, 1, 0, 1, 1, 1, 1, 1, 0, 0, 1,\n",
       "       1, 1, 1, 1, 1, 1, 1, 0, 1, 1, 1, 1, 0, 0, 0, 1, 1, 1, 1, 1, 1, 1,\n",
       "       1, 1, 0, 1, 1, 1, 1, 1, 1, 1, 1, 1, 1, 1, 1, 1, 1, 1, 1, 1, 0, 1,\n",
       "       1, 1, 1, 1, 0, 1, 1, 1, 1, 1, 1, 0, 1, 0, 1, 1, 1, 0, 1, 1, 1, 0,\n",
       "       1, 1, 1, 1, 1, 1, 1, 1, 1, 1, 1, 1, 0, 1, 1, 1, 1, 1, 1, 1, 1, 1,\n",
       "       1, 1, 1, 1, 1, 1, 1, 1, 1, 1, 1, 0, 1, 1, 1, 1, 0, 1, 1, 0, 1, 1,\n",
       "       1, 0, 1, 1, 0, 1, 1, 1, 1])"
      ]
     },
     "execution_count": 37,
     "metadata": {},
     "output_type": "execute_result"
    }
   ],
   "source": [
    "import joblib \n",
    "joblib.dump(rf1, \"model.pkl\") \n",
    "model = joblib.load('model.pkl' ) \n",
    "model.predict(X_test)"
   ]
  },
  {
   "cell_type": "code",
   "execution_count": null,
   "id": "d869a0ab",
   "metadata": {
    "papermill": {
     "duration": 0.012558,
     "end_time": "2022-09-26T15:12:02.685568",
     "exception": false,
     "start_time": "2022-09-26T15:12:02.673010",
     "status": "completed"
    },
    "tags": []
   },
   "outputs": [],
   "source": []
  }
 ],
 "metadata": {
  "kernelspec": {
   "display_name": "Python 3",
   "language": "python",
   "name": "python3"
  },
  "language_info": {
   "codemirror_mode": {
    "name": "ipython",
    "version": 3
   },
   "file_extension": ".py",
   "mimetype": "text/x-python",
   "name": "python",
   "nbconvert_exporter": "python",
   "pygments_lexer": "ipython3",
   "version": "3.7.12"
  },
  "papermill": {
   "default_parameters": {},
   "duration": 41.308846,
   "end_time": "2022-09-26T15:12:03.925751",
   "environment_variables": {},
   "exception": null,
   "input_path": "__notebook__.ipynb",
   "output_path": "__notebook__.ipynb",
   "parameters": {},
   "start_time": "2022-09-26T15:11:22.616905",
   "version": "2.3.4"
  }
 },
 "nbformat": 4,
 "nbformat_minor": 5
}
